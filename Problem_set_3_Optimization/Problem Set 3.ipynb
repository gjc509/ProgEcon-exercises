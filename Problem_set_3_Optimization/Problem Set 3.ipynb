{
 "cells": [
  {
   "cell_type": "markdown",
   "id": "a7d41da2",
   "metadata": {},
   "source": [
    "Problem Set 1: Printing and plotting"
   ]
  },
  {
   "cell_type": "code",
   "execution_count": 1,
   "id": "51eea135",
   "metadata": {},
   "outputs": [],
   "source": [
    "# imports\n",
    "\n",
    "import numpy as np\n",
    "import matplotlib.pyplot as plt\n",
    "\n",
    "from mpl_toolkits.mplot3d import Axes3D # for 3D plots\n",
    "from matplotlib import cm # for colormap\n",
    "\n",
    "# predefine options for all plots\n",
    "plt.rcParams.update({'axes.grid':True,'grid.color':'black','grid.alpha':'0.25','grid.linestyle':'-'})\n",
    "plt.rcParams.update({'font.size': 14})\n",
    "\n",
    "colors = plt.rcParams['axes.prop_cycle'].by_key()['color']"
   ]
  },
  {
   "cell_type": "code",
   "execution_count": null,
   "id": "9226ea5a",
   "metadata": {},
   "outputs": [],
   "source": []
  }
 ],
 "metadata": {
  "kernelspec": {
   "display_name": "base",
   "language": "python",
   "name": "python3"
  },
  "language_info": {
   "codemirror_mode": {
    "name": "ipython",
    "version": 3
   },
   "file_extension": ".py",
   "mimetype": "text/x-python",
   "name": "python",
   "nbconvert_exporter": "python",
   "pygments_lexer": "ipython3",
   "version": "3.13.5"
  }
 },
 "nbformat": 4,
 "nbformat_minor": 5
}
